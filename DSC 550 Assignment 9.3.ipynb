{
 "cells": [
  {
   "cell_type": "markdown",
   "metadata": {},
   "source": [
    "# 1. Neural Network Classifier with Scikit\n",
    "\n",
    "Using the multi-label classifier dataset from earlier exercises (categorized-comments.jsonl in the reddit folder), fit a neural network classifier using scikit-learn. Use the code found in chapter 12 of the Applied Text Analysis with Python book as a guideline. Report the accuracy, precision, recall, F1-score, and confusion matrix."
   ]
  },
  {
   "cell_type": "code",
   "execution_count": 41,
   "metadata": {},
   "outputs": [
    {
     "name": "stdout",
     "output_type": "stream",
     "text": [
      "<class 'pandas.core.frame.DataFrame'>\n",
      "RangeIndex: 606475 entries, 0 to 606474\n",
      "Data columns (total 2 columns):\n",
      "cat    606475 non-null object\n",
      "txt    606475 non-null object\n",
      "dtypes: object(2)\n",
      "memory usage: 9.3+ MB\n",
      "Size:  606475 \n",
      " Shape:  None \n",
      " Categories:  ['sports' 'science_and_technology' 'video_games']\n"
     ]
    }
   ],
   "source": [
    "from sklearn.model_selection import train_test_split\n",
    "from sklearn.metrics import accuracy_score, confusion_matrix, precision_recall_fscore_support\n",
    "from sklearn.metrics import classification_report\n",
    "from keras.models import Sequential\n",
    "from keras.layers import Dense\n",
    "from sklearn.preprocessing import LabelEncoder\n",
    "from nltk.tokenize import word_tokenize\n",
    "from sklearn.feature_extraction.text import CountVectorizer, TfidfVectorizer\n",
    "from nltk.corpus import stopwords\n",
    "from keras.preprocessing.text import Tokenizer\n",
    "import pandas as pd, numpy as np, json, re, pickle, keras\n",
    "\n",
    "\n",
    "def read_data(file):\n",
    "    \n",
    "    data = []\n",
    "\n",
    "    with open(file) as f:\n",
    "        for line in f:\n",
    "            data.append(json.loads(line))\n",
    "        \n",
    "    # convert to data frame\n",
    "    \n",
    "    return pd.DataFrame(data)\n",
    "\n",
    "# read category data\n",
    "\n",
    "df = read_data('categorized-comments.jsonl')\n",
    "\n",
    "# check size, structure and categories\n",
    "\n",
    "print('Size: ', len(df), '\\n',\n",
    "      'Shape: ', df.info(), '\\n',\n",
    "      'Categories: ', df.cat.unique())"
   ]
  },
  {
   "cell_type": "code",
   "execution_count": 42,
   "metadata": {},
   "outputs": [
    {
     "data": {
      "text/html": [
       "<div>\n",
       "<style scoped>\n",
       "    .dataframe tbody tr th:only-of-type {\n",
       "        vertical-align: middle;\n",
       "    }\n",
       "\n",
       "    .dataframe tbody tr th {\n",
       "        vertical-align: top;\n",
       "    }\n",
       "\n",
       "    .dataframe thead th {\n",
       "        text-align: right;\n",
       "    }\n",
       "</style>\n",
       "<table border=\"1\" class=\"dataframe\">\n",
       "  <thead>\n",
       "    <tr style=\"text-align: right;\">\n",
       "      <th></th>\n",
       "      <th>cat</th>\n",
       "      <th>txt</th>\n",
       "    </tr>\n",
       "  </thead>\n",
       "  <tbody>\n",
       "    <tr>\n",
       "      <th>0</th>\n",
       "      <td>science_and_technology</td>\n",
       "      <td>k</td>\n",
       "    </tr>\n",
       "    <tr>\n",
       "      <th>1</th>\n",
       "      <td>science_and_technology</td>\n",
       "      <td>currently in   different group chats one with ...</td>\n",
       "    </tr>\n",
       "    <tr>\n",
       "      <th>2</th>\n",
       "      <td>science_and_technology</td>\n",
       "      <td>i know this post is old but i just today start...</td>\n",
       "    </tr>\n",
       "    <tr>\n",
       "      <th>3</th>\n",
       "      <td>science_and_technology</td>\n",
       "      <td>the   was waterproof resistant</td>\n",
       "    </tr>\n",
       "    <tr>\n",
       "      <th>4</th>\n",
       "      <td>science_and_technology</td>\n",
       "      <td>crashes here as well</td>\n",
       "    </tr>\n",
       "  </tbody>\n",
       "</table>\n",
       "</div>"
      ],
      "text/plain": [
       "                      cat                                                txt\n",
       "0  science_and_technology                                                  k\n",
       "1  science_and_technology  currently in   different group chats one with ...\n",
       "2  science_and_technology  i know this post is old but i just today start...\n",
       "3  science_and_technology                    the   was waterproof resistant \n",
       "4  science_and_technology                              crashes here as well "
      ]
     },
     "execution_count": 42,
     "metadata": {},
     "output_type": "execute_result"
    }
   ],
   "source": [
    "size = 10000    # sample size\n",
    "replace = True  # with replacement\n",
    "fn = lambda obj: obj.loc[np.random.choice(obj.index, size, replace),:]\n",
    "\n",
    "category = df.groupby('cat', as_index=False).apply(fn)\n",
    "\n",
    "# free up memory\n",
    "\n",
    "del df\n",
    "\n",
    "category['txt'] = category['txt'].apply(lambda x:clean_text(x))\n",
    "category.reset_index(drop=True, inplace=True)\n",
    "\n",
    "category.head()\n",
    "\n"
   ]
  },
  {
   "cell_type": "code",
   "execution_count": 17,
   "metadata": {},
   "outputs": [
    {
     "name": "stderr",
     "output_type": "stream",
     "text": [
      "/Users/jasoncorbaley/anaconda3/lib/python3.7/site-packages/sklearn/neural_network/_multilayer_perceptron.py:571: ConvergenceWarning: Stochastic Optimizer: Maximum iterations (75) reached and the optimization hasn't converged yet.\n",
      "  % self.max_iter, ConvergenceWarning)\n"
     ]
    },
    {
     "data": {
      "text/plain": [
       "MLPClassifier(activation='relu', alpha=0.0001, batch_size='auto', beta_1=0.9,\n",
       "              beta_2=0.999, early_stopping=False, epsilon=1e-08,\n",
       "              hidden_layer_sizes=(30, 30, 30), learning_rate='constant',\n",
       "              learning_rate_init=0.001, max_fun=15000, max_iter=75,\n",
       "              momentum=0.9, n_iter_no_change=10, nesterovs_momentum=True,\n",
       "              power_t=0.5, random_state=None, shuffle=True, solver='adam',\n",
       "              tol=0.0001, validation_fraction=0.1, verbose=False,\n",
       "              warm_start=False)"
      ]
     },
     "execution_count": 17,
     "metadata": {},
     "output_type": "execute_result"
    }
   ],
   "source": [
    "# create the feature matrix\n",
    "\n",
    "cv = CountVectorizer(stop_words=stop_words)\n",
    "\n",
    "# create target and sample\n",
    "\n",
    "X = cv.fit_transform(category['txt'])\n",
    "Y = category['cat']\n",
    "\n",
    "# create train test split\n",
    "\n",
    "X_train, X_test, y_train, y_test = train_test_split(X, Y, test_size=0.25, random_state=1)\n",
    "\n",
    "mlp = MLPClassifier(hidden_layer_sizes=(30,30,30), max_iter=75)\n",
    "mlp.fit(X_train,y_train)"
   ]
  },
  {
   "cell_type": "code",
   "execution_count": 18,
   "metadata": {},
   "outputs": [
    {
     "name": "stdout",
     "output_type": "stream",
     "text": [
      "Confusion Matrix:  [[1897  225  424]\n",
      " [ 195 1693  610]\n",
      " [ 272  493 1691]]\n",
      "Classification Report:                         precision    recall  f1-score   support\n",
      "\n",
      "science_and_technology       0.80      0.75      0.77      2546\n",
      "                sports       0.70      0.68      0.69      2498\n",
      "           video_games       0.62      0.69      0.65      2456\n",
      "\n",
      "              accuracy                           0.70      7500\n",
      "             macro avg       0.71      0.70      0.71      7500\n",
      "          weighted avg       0.71      0.70      0.71      7500\n",
      "\n",
      "Accuracy:  0.7041333333333334\n"
     ]
    }
   ],
   "source": [
    "predictions = mlp.predict(X_test)\n",
    "print('Confusion Matrix: ',confusion_matrix(y_test,predictions))  \n",
    "print('Classification Report:',classification_report(y_test,predictions)) \n",
    "print('Accuracy: ',accuracy_score(y_test,predictions))"
   ]
  },
  {
   "cell_type": "markdown",
   "metadata": {},
   "source": [
    "# 2. Neural Network Classifier with Keras\n",
    "\n",
    "Using the multi-label classifier dataset from earlier exercises (categorized-comments.jsonl in the reddit folder), fit a neural network classifier using Keras. Use the code found in chapter 12 of the Applied Text Analysis with Python book as a guideline. Report the accuracy, precision, recall, F1-score, and confusion matrix."
   ]
  },
  {
   "cell_type": "code",
   "execution_count": 19,
   "metadata": {},
   "outputs": [
    {
     "data": {
      "text/plain": [
       "cat\n",
       "science_and_technology    10000\n",
       "sports                    10000\n",
       "video_games               10000\n",
       "dtype: int64"
      ]
     },
     "execution_count": 19,
     "metadata": {},
     "output_type": "execute_result"
    }
   ],
   "source": [
    "# check the unique categories\n",
    "\n",
    "#category[\"cat\"].unique()\n",
    "category.groupby([\"cat\"]).size()"
   ]
  },
  {
   "cell_type": "code",
   "execution_count": 20,
   "metadata": {},
   "outputs": [
    {
     "data": {
      "text/html": [
       "<div>\n",
       "<style scoped>\n",
       "    .dataframe tbody tr th:only-of-type {\n",
       "        vertical-align: middle;\n",
       "    }\n",
       "\n",
       "    .dataframe tbody tr th {\n",
       "        vertical-align: top;\n",
       "    }\n",
       "\n",
       "    .dataframe thead th {\n",
       "        text-align: right;\n",
       "    }\n",
       "</style>\n",
       "<table border=\"1\" class=\"dataframe\">\n",
       "  <thead>\n",
       "    <tr style=\"text-align: right;\">\n",
       "      <th></th>\n",
       "      <th>txt</th>\n",
       "    </tr>\n",
       "    <tr>\n",
       "      <th>cat</th>\n",
       "      <th></th>\n",
       "    </tr>\n",
       "  </thead>\n",
       "  <tbody>\n",
       "    <tr>\n",
       "      <th>0</th>\n",
       "      <td>10000</td>\n",
       "    </tr>\n",
       "    <tr>\n",
       "      <th>1</th>\n",
       "      <td>10000</td>\n",
       "    </tr>\n",
       "    <tr>\n",
       "      <th>2</th>\n",
       "      <td>10000</td>\n",
       "    </tr>\n",
       "  </tbody>\n",
       "</table>\n",
       "</div>"
      ],
      "text/plain": [
       "       txt\n",
       "cat       \n",
       "0    10000\n",
       "1    10000\n",
       "2    10000"
      ]
     },
     "execution_count": 20,
     "metadata": {},
     "output_type": "execute_result"
    }
   ],
   "source": [
    "encoder = LabelEncoder()\n",
    "\n",
    "cat = category[\"cat\"]\n",
    "category[\"cat\"]=encoder.fit_transform(cat)\n",
    "category.groupby(\"cat\").count()"
   ]
  },
  {
   "cell_type": "code",
   "execution_count": 23,
   "metadata": {},
   "outputs": [
    {
     "name": "stdout",
     "output_type": "stream",
     "text": [
      "(22500, 5000)\n",
      "(7500, 5000)\n",
      "(22500,)\n",
      "(7500,)\n"
     ]
    }
   ],
   "source": [
    "\n",
    "# set the features and classes\n",
    "\n",
    "N_FEATURES = 5000\n",
    "N_CLASSES = 1\n",
    "N_UNITS = 2500\n",
    "\n",
    "# create the feature matrix\n",
    "\n",
    "cv = CountVectorizer(analyzer='word',\n",
    "                     stop_words=stop_words, \n",
    "                     max_features = N_FEATURES,\n",
    "                     max_df = 0.5,\n",
    "                     min_df = 3)\n",
    "\n",
    "# create target and sample\n",
    "\n",
    "X = cv.fit_transform(category['txt'])\n",
    "y = category['cat']\n",
    "\n",
    "# create train test split\n",
    "\n",
    "X_train, X_test, y_train, y_test = train_test_split(X, y, test_size=0.25, random_state=1)\n",
    "\n",
    "print(str(X_train.shape))\n",
    "print(str(X_test.shape))\n",
    "print(str(y_train.shape))\n",
    "print(str(y_test.shape))"
   ]
  },
  {
   "cell_type": "code",
   "execution_count": 25,
   "metadata": {},
   "outputs": [
    {
     "name": "stdout",
     "output_type": "stream",
     "text": [
      "Epoch 1/5\n",
      "22500/22500 [==============================] - 5s 204us/step - loss: 0.7209 - accuracy: 0.6822\n",
      "Epoch 2/5\n",
      "22500/22500 [==============================] - 4s 170us/step - loss: 0.4824 - accuracy: 0.7843\n",
      "Epoch 3/5\n",
      "22500/22500 [==============================] - 4s 173us/step - loss: 0.4016 - accuracy: 0.8216\n",
      "Epoch 4/5\n",
      "22500/22500 [==============================] - 4s 168us/step - loss: 0.3378 - accuracy: 0.8492\n",
      "Epoch 5/5\n",
      "22500/22500 [==============================] - 4s 187us/step - loss: 0.2872 - accuracy: 0.8703\n"
     ]
    },
    {
     "data": {
      "text/plain": [
       "<keras.callbacks.callbacks.History at 0x1a285d3b70>"
      ]
     },
     "execution_count": 25,
     "metadata": {},
     "output_type": "execute_result"
    }
   ],
   "source": [
    "# initialize\n",
    "\n",
    "classifier_seq = Sequential()\n",
    "\n",
    "classifier_seq.add(Dense(units=500,activation=\"relu\",input_shape=(N_FEATURES,)))\n",
    "classifier_seq.add(Dense(units=50, activation=\"relu\"))\n",
    "classifier_seq.add(Dense(units=4, activation=\"softmax\"))\n",
    "\n",
    "# compile the Artificial Neural Network (ANN)\n",
    "\n",
    "classifier_seq.compile(optimizer=\"rmsprop\", \n",
    "                       loss=\"sparse_categorical_crossentropy\", \n",
    "                       metrics=[\"accuracy\"])\n",
    "\n",
    "# fit ANN to the training set\n",
    "\n",
    "classifier_seq.fit(X_train, y_train, batch_size=200, epochs=5, verbose = 1)"
   ]
  },
  {
   "cell_type": "code",
   "execution_count": 26,
   "metadata": {},
   "outputs": [
    {
     "name": "stdout",
     "output_type": "stream",
     "text": [
      "Model: \"sequential_2\"\n",
      "_________________________________________________________________\n",
      "Layer (type)                 Output Shape              Param #   \n",
      "=================================================================\n",
      "dense_4 (Dense)              (None, 500)               2500500   \n",
      "_________________________________________________________________\n",
      "dense_5 (Dense)              (None, 50)                25050     \n",
      "_________________________________________________________________\n",
      "dense_6 (Dense)              (None, 4)                 204       \n",
      "=================================================================\n",
      "Total params: 2,525,754\n",
      "Trainable params: 2,525,754\n",
      "Non-trainable params: 0\n",
      "_________________________________________________________________\n"
     ]
    }
   ],
   "source": [
    "classifier_seq.summary()"
   ]
  },
  {
   "cell_type": "code",
   "execution_count": 27,
   "metadata": {},
   "outputs": [
    {
     "name": "stdout",
     "output_type": "stream",
     "text": [
      "7500/7500 [==============================] - 1s 113us/step\n",
      "Training Accuracy: 0.7385\n"
     ]
    }
   ],
   "source": [
    "# loss and accuracy\n",
    "\n",
    "loss, accuracy = classifier_seq.evaluate(X_test, y_test, verbose=1)\n",
    "print(\"Training Accuracy: {:.4f}\".format(accuracy))"
   ]
  },
  {
   "cell_type": "code",
   "execution_count": 28,
   "metadata": {},
   "outputs": [
    {
     "name": "stdout",
     "output_type": "stream",
     "text": [
      "Confusion Matrix:  [[2020  222  304]\n",
      " [ 191 1844  463]\n",
      " [ 254  527 1675]]\n",
      "Classification Report:                precision    recall  f1-score   support\n",
      "\n",
      "           0       0.82      0.79      0.81      2546\n",
      "           1       0.71      0.74      0.72      2498\n",
      "           2       0.69      0.68      0.68      2456\n",
      "\n",
      "    accuracy                           0.74      7500\n",
      "   macro avg       0.74      0.74      0.74      7500\n",
      "weighted avg       0.74      0.74      0.74      7500\n",
      "\n",
      "Accuracy:  0.7385333333333334\n"
     ]
    }
   ],
   "source": [
    "# create prediction\n",
    "\n",
    "y_pred = classifier_seq.predict_classes(X_test)\n",
    "\n",
    "# calculate model matrix\n",
    "\n",
    "print(\"Confusion Matrix: \", confusion_matrix(y_test, y_pred))\n",
    "print(\"Classification Report: \", classification_report(y_test,y_pred))\n",
    "print(\"Accuracy: \", accuracy_score(y_test,y_pred))"
   ]
  },
  {
   "cell_type": "markdown",
   "metadata": {},
   "source": [
    "# 3. Classifying Images\n",
    "\n",
    "In chapter 20 of the Machine Learning with Python Cookbook, implement the code found in section 20.15 classify MSINT images using a convolutional neural network. Report the accuracy of your results."
   ]
  },
  {
   "cell_type": "code",
   "execution_count": 30,
   "metadata": {},
   "outputs": [
    {
     "name": "stdout",
     "output_type": "stream",
     "text": [
      "Downloading data from https://s3.amazonaws.com/img-datasets/mnist.npz\n",
      "11493376/11490434 [==============================] - 2s 0us/step\n"
     ]
    }
   ],
   "source": [
    "import numpy as np\n",
    "from keras.datasets import mnist\n",
    "from keras.models import Sequential\n",
    "from keras.layers import Dense, Dropout, Flatten\n",
    "from keras.layers.convolutional import Conv2D, MaxPooling2D\n",
    "from keras.utils import np_utils\n",
    "from keras import backend as K\n",
    "\n",
    "# Set that the color channel value will be first\n",
    "K.set_image_data_format(\"channels_first\")\n",
    "\n",
    "# Set seed\n",
    "np.random.seed(0)\n",
    "\n",
    "# Set that the color channel value will be first\n",
    "K.set_image_data_format(\"channels_first\")\n",
    "\n",
    "# Set seed\n",
    "np.random.seed(0)\n",
    "\n",
    "# Set image information\n",
    "channels = 1\n",
    "height = 28\n",
    "width = 28\n",
    "\n",
    "# Load data and target from MNIST data\n",
    "(data_train, target_train), (data_test, target_test) = mnist.load_data()\n",
    "\n",
    "# Reshape training image data into features\n",
    "data_train = data_train.reshape(data_train.shape[0], channels, height, width)\n",
    "\n",
    "# Reshape test image data into features\n",
    "data_test = data_test.reshape(data_test.shape[0], channels, height, width)\n",
    "\n",
    "# Rescale pixel intensity to between 0 and 1\n",
    "features_train = data_train / 255\n",
    "features_test = data_test / 255"
   ]
  },
  {
   "cell_type": "code",
   "execution_count": 31,
   "metadata": {},
   "outputs": [
    {
     "data": {
      "text/plain": [
       "<keras.callbacks.callbacks.History at 0x1a288f3ef0>"
      ]
     },
     "execution_count": 31,
     "metadata": {},
     "output_type": "execute_result"
    }
   ],
   "source": [
    "# One-hot encode target\n",
    "target_train = np_utils.to_categorical(target_train)\n",
    "target_test = np_utils.to_categorical(target_test)\n",
    "number_of_classes = target_test.shape[1]\n",
    "\n",
    "# Start neural network\n",
    "network = Sequential()\n",
    "\n",
    "# Add convolutional layer with 64 filters, a 5x5 window, and ReLU activation function\n",
    "network.add(Conv2D(filters=64,\n",
    "                   kernel_size=(5, 5),\n",
    "                   input_shape=(channels, width, height),\n",
    "                   activation='relu'))\n",
    "\n",
    "# Add max pooling layer with a 2x2 window\n",
    "network.add(MaxPooling2D(pool_size=(2, 2)))\n",
    "\n",
    "# Add dropout layer\n",
    "network.add(Dropout(0.5))\n",
    "\n",
    "# Add layer to flatten input\n",
    "network.add(Flatten())\n",
    "\n",
    "# # Add fully connected layer of 128 units with a ReLU activation function\n",
    "network.add(Dense(128, activation=\"relu\"))\n",
    "\n",
    "# Add dropout layer\n",
    "network.add(Dropout(0.5))\n",
    "\n",
    "# Add fully connected layer with a softmax activation function\n",
    "network.add(Dense(number_of_classes, activation=\"softmax\"))\n",
    "\n",
    "# Compile neural network\n",
    "network.compile(loss=\"categorical_crossentropy\", # Cross-entropy\n",
    "                optimizer=\"rmsprop\", # Root Mean Square Propagation\n",
    "                metrics=[\"accuracy\"]) # Accuracy performance metric\n",
    "\n",
    "# Train neural network\n",
    "network.fit(features_train, # Features\n",
    "            target_train, # Target\n",
    "            epochs=2, # Number of epochs\n",
    "            verbose=0, # Don't print description after each epoch\n",
    "            batch_size=1000, # Number of observations per batch\n",
    "            validation_data=(features_test, target_test)) # Data for evaluation"
   ]
  },
  {
   "cell_type": "code",
   "execution_count": 32,
   "metadata": {},
   "outputs": [],
   "source": [
    "# since the model took long time to train, I am saving it for future use\n",
    "network.save('image')\n",
    "del network"
   ]
  },
  {
   "cell_type": "code",
   "execution_count": 33,
   "metadata": {},
   "outputs": [
    {
     "name": "stdout",
     "output_type": "stream",
     "text": [
      "60000/60000 [==============================] - 24s 407us/step\n"
     ]
    },
    {
     "data": {
      "text/plain": [
       "[0.09607982429750264, 0.9710999727249146]"
      ]
     },
     "execution_count": 33,
     "metadata": {},
     "output_type": "execute_result"
    }
   ],
   "source": [
    "# loading the saved model\n",
    "from keras.models import load_model\n",
    "network = load_model('image')\n",
    "\n",
    "# evaluate and print\n",
    "eval_model=network.evaluate(features_train, target_train)\n",
    "eval_model"
   ]
  },
  {
   "cell_type": "code",
   "execution_count": null,
   "metadata": {},
   "outputs": [],
   "source": []
  }
 ],
 "metadata": {
  "kernelspec": {
   "display_name": "Python 3",
   "language": "python",
   "name": "python3"
  },
  "language_info": {
   "codemirror_mode": {
    "name": "ipython",
    "version": 3
   },
   "file_extension": ".py",
   "mimetype": "text/x-python",
   "name": "python",
   "nbconvert_exporter": "python",
   "pygments_lexer": "ipython3",
   "version": "3.7.3"
  }
 },
 "nbformat": 4,
 "nbformat_minor": 2
}
